{
 "cells": [
  {
   "cell_type": "code",
   "execution_count": 1,
   "metadata": {},
   "outputs": [
    {
     "name": "stdout",
     "output_type": "stream",
     "text": [
      "Python 3.8.11\n"
     ]
    }
   ],
   "source": [
    "!python3 --version"
   ]
  },
  {
   "cell_type": "code",
   "execution_count": 2,
   "metadata": {},
   "outputs": [],
   "source": [
    "import pandas\n",
    "\n",
    "from utils import calculate_percent_replicating_MOA, plot_simple_comparison"
   ]
  },
  {
   "cell_type": "code",
   "execution_count": 3,
   "metadata": {},
   "outputs": [],
   "source": [
    "variable = 'Binning'\n",
    "\n",
    "plate_df = pandas.DataFrame()\n",
    "plate_df = plate_df.append({'Plate Name' : 'BR00112197', variable : '1x1', 'Batch' : 'Stain2', \n",
    "'Percent Replicating' : calculate_percent_replicating_MOA(\n",
    "    '../profiles-pilots/profiles/2020_06_25_Stain2_Batch2_Standard','BR00112197')}, ignore_index=True)\n",
    "\n",
    "plate_df = plate_df.append({'Plate Name' : 'BR00112197', variable : '2x2', 'Batch' : 'Stain2', \n",
    "'Percent Replicating' : calculate_percent_replicating_MOA(\n",
    "    '../profiles-pilots/profiles/2020_06_25_Stain2_Batch2_Binned','BR00112197')}, ignore_index=True)\n",
    "\n",
    "plate_df = plate_df.append({'Plate Name' : 'BR00115134', variable : '1x1', 'Batch' : 'Stain3', \n",
    "'Percent Replicating' : calculate_percent_replicating_MOA(\n",
    "    '../profiles-pilots/profiles/2020_08_11_Stain3_Bin1','BR00115134')}, ignore_index=True)  \n",
    "\n",
    "plate_df = plate_df.append({'Plate Name' : 'BR00115134', variable : '2x2', 'Batch' : 'Stain3', \n",
    "'Percent Replicating' : calculate_percent_replicating_MOA(\n",
    "    '../profiles-pilots/profiles/2020_08_11_Stain3_Standard','BR00115134')}, ignore_index=True) \n",
    "\n",
    "plate_df = plate_df.append({'Plate Name' : '200922_044247-V', variable : '1x1', 'Batch' : 'Stain4', \n",
    "'Percent Replicating' : calculate_percent_replicating_MOA(\n",
    "    '../profiles-pilots/profiles/2020_09_22_Stain4_Bin1','200922_044247-V')}, ignore_index=True) \n",
    "\n",
    "plate_df = plate_df.append({'Plate Name' : 'BR00116633', variable : '1x1', 'Batch' : 'Stain4', \n",
    "'Percent Replicating' : calculate_percent_replicating_MOA(\n",
    "    '../profiles-pilots/profiles/2020_09_22_Stain4_Bin1','BR00116633')}, ignore_index=True) \n",
    "\n",
    "plate_df = plate_df.append({'Plate Name' : 'BR00116634', variable : '1x1', 'Batch' : 'Stain4', \n",
    "'Percent Replicating' : calculate_percent_replicating_MOA(\n",
    "    '../profiles-pilots/profiles/2020_09_22_Stain4_Bin1','BR00116634')}, ignore_index=True)\n",
    "\n",
    "plate_df = plate_df.append({'Plate Name' : 'BR00116632', variable : '2x2', 'Batch' : 'Stain4', \n",
    "'Percent Replicating' : calculate_percent_replicating_MOA(\n",
    "    '../profiles-pilots/profiles/2020_09_22_Stain4_Bray_HighExp','BR00116632')}, ignore_index=True) \n",
    "\n",
    "plate_df = plate_df.append({'Plate Name' : 'BR00116633', variable : '2x2', 'Batch' : 'Stain4', \n",
    "'Percent Replicating' : calculate_percent_replicating_MOA(\n",
    "    '../profiles-pilots/profiles/2020_09_22_Stain4_Bray_HighExp','BR00116633')}, ignore_index=True) \n",
    "\n",
    "plate_df = plate_df.append({'Plate Name' : 'BR00116634', variable : '2x2', 'Batch' : 'Stain4', \n",
    "'Percent Replicating' : calculate_percent_replicating_MOA(\n",
    "    '../profiles-pilots/profiles/2020_09_22_Stain4_Bray_HighExp','BR00116634')}, ignore_index=True)\n",
    "\n",
    "plate_df = plate_df.append({'Plate Name' : 'BR00117030', variable : '1x1', 'Batch' : 'Plate1', \n",
    "'Percent Replicating' : calculate_percent_replicating_MOA(\n",
    "    '../profiles-pilots/profiles/2020_10_20_Plate1_PE_Bin1','BR00117030')}, ignore_index=True)\n",
    "\n",
    "plate_df = plate_df.append({'Plate Name' : 'BR00117031', variable : '1x1', 'Batch' : 'Plate1', \n",
    "'Percent Replicating' : calculate_percent_replicating_MOA(\n",
    "    '../profiles-pilots/profiles/2020_10_20_Plate1_PE_Bin1','BR00117031')}, ignore_index=True)\n",
    "\n",
    "plate_df = plate_df.append({'Plate Name' : 'BR00117032', variable : '1x1', 'Batch' : 'Plate1', \n",
    "'Percent Replicating' : calculate_percent_replicating_MOA(\n",
    "    '../profiles-pilots/profiles/2020_10_20_Plate1_PE_Bin1','BR00117032')}, ignore_index=True)\n",
    "\n",
    "plate_df = plate_df.append({'Plate Name' : 'BR00117030', variable : '2x2', 'Batch' : 'Plate1', \n",
    "'Percent Replicating' : calculate_percent_replicating_MOA(\n",
    "    '../profiles-pilots/profiles/2020_10_07_Plate1','BR00117030')}, ignore_index=True)\n",
    "\n",
    "plate_df = plate_df.append({'Plate Name' : 'BR00117031', variable : '2x2', 'Batch' : 'Plate1', \n",
    "'Percent Replicating' : calculate_percent_replicating_MOA(\n",
    "    '../profiles-pilots/profiles/2020_10_07_Plate1','BR00117031')}, ignore_index=True)\n",
    "\n",
    "plate_df = plate_df.append({'Plate Name' : 'BR00117032', variable : '2x2', 'Batch' : 'Plate1', \n",
    "'Percent Replicating' : calculate_percent_replicating_MOA(\n",
    "    '../profiles-pilots/profiles/2020_10_07_Plate1','BR00117032')}, ignore_index=True)\n",
    "\n"
   ]
  },
  {
   "cell_type": "code",
   "execution_count": 4,
   "metadata": {},
   "outputs": [
    {
     "name": "stdout",
     "output_type": "stream",
     "text": [
      "Saved to ../figures/Binning-Batch.png\n"
     ]
    },
    {
     "data": {
      "image/png": "[encoded data removed]",
      "text/plain": [
       "<Figure size 445.27x360 with 1 Axes>"
      ]
     },
     "metadata": {},
     "output_type": "display_data"
    }
   ],
   "source": [
    "#You may find that running this a couple of times is needed to find a version where the jitter is about right\n",
    "plot_simple_comparison(df=plate_df,x=variable,hue='Batch')"
   ]
  }
 ],
 "metadata": {
  "interpreter": {
   "hash": "d21b3bfd7694d2323c7a38a56a8d2e4bf000eddaeb89b81246328afcff96040a"
  },
  "kernelspec": {
   "display_name": "Python 3.8.11 64-bit",
   "language": "python",
   "name": "python3"
  },
  "language_info": {
   "codemirror_mode": {
    "name": "ipython",
    "version": 3
   },
   "file_extension": ".py",
   "mimetype": "text/x-python",
   "name": "python",
   "nbconvert_exporter": "python",
   "pygments_lexer": "ipython3",
   "version": "3.8.11"
  },
  "orig_nbformat": 4
 },
 "nbformat": 4,
 "nbformat_minor": 2
}
