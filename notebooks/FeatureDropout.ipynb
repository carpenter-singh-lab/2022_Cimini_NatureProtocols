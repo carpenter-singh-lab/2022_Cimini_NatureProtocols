{
 "cells": [
  {
   "cell_type": "code",
   "execution_count": 1,
   "metadata": {},
   "outputs": [
    {
     "name": "stdout",
     "output_type": "stream",
     "text": [
      "Python 3.8.11\n"
     ]
    }
   ],
   "source": [
    "!python3 --version"
   ]
  },
  {
   "cell_type": "code",
   "execution_count": 2,
   "metadata": {},
   "outputs": [],
   "source": [
    "import pandas\n",
    "import numpy\n",
    "import pycytominer\n",
    "\n",
    "from utils import calculate_percent_replicating_MOA"
   ]
  },
  {
   "cell_type": "code",
   "execution_count": 3,
   "metadata": {},
   "outputs": [],
   "source": [
    "def do_feature_select(plate_df):\n",
    "    feature_select_features = pycytominer.cyto_utils.infer_cp_features(\n",
    "        plate_df\n",
    "    )\n",
    "\n",
    "    return pycytominer.feature_select(\n",
    "        profiles=plate_df,\n",
    "        features=feature_select_features,\n",
    "        operation=['variance_threshold','correlation_threshold',\n",
    "        'drop_na_columns','blocklist']\n",
    "    )"
   ]
  },
  {
   "cell_type": "code",
   "execution_count": 4,
   "metadata": {},
   "outputs": [],
   "source": [
    "normalized_master = pandas.read_csv('../profiles-pilots/profiles/Stain5_CondC_Standard/BR00120274/BR00120274_normalized_negcon.csv.gz')"
   ]
  },
  {
   "cell_type": "code",
   "execution_count": 5,
   "metadata": {},
   "outputs": [
    {
     "data": {
      "text/plain": [
       "136"
      ]
     },
     "execution_count": 5,
     "metadata": {},
     "output_type": "execute_result"
    }
   ],
   "source": [
    "word_dict ={}\n",
    "modules = []\n",
    "for eachcolumn in normalized_master.columns:\n",
    "    split = eachcolumn.split('_')\n",
    "    modules.append(split[1])\n",
    "    for eachsplit in split:\n",
    "        if eachsplit not in word_dict.keys():\n",
    "            word_dict[eachsplit] = 1\n",
    "        else:\n",
    "            word_dict[eachsplit] += 1\n",
    "modules=list(set(modules))\n",
    "modules.sort()\n",
    "len(word_dict)"
   ]
  },
  {
   "cell_type": "code",
   "execution_count": 6,
   "metadata": {},
   "outputs": [
    {
     "name": "stdout",
     "output_type": "stream",
     "text": [
      "83\n",
      "['Cells', 'AreaShape', 'X', 'Y', 'Zernike', '1', '2', '3', '4', '5', '6', '7', '8', '9', 'Cytoplasm', 'Correlation', 'AGP', 'BFHigh', 'BFLow', 'Brightfield', 'DNA', 'ER', 'Mito', 'RNA', 'K', 'Manders', 'Overlap', 'RWC', 'Granularity', '10', '11', '12', '13', '14', '15', '16', 'Intensity', 'IntegratedIntensityEdge', 'IntegratedIntensity', 'LowerQuartileIntensity', 'MADIntensity', 'MassDisplacement', 'MaxIntensityEdge', 'MaxIntensity', 'MeanIntensityEdge', 'MeanIntensity', 'MedianIntensity', 'MinIntensityEdge', 'MinIntensity', 'StdIntensityEdge', 'StdIntensity', 'UpperQuartileIntensity', 'Location', 'CenterMassIntensity', 'Z', 'Neighbors', 'Nuclei', 'RadialDistribution', 'FracAtD', '1of4', '2of4', '3of4', '4of4', 'MeanFrac', 'RadialCV', 'Texture', 'AngularSecondMoment', '00', '256', '01', '02', '03', 'Contrast', 'DifferenceEntropy', 'DifferenceVariance', 'Entropy', 'InfoMeas1', 'InfoMeas2', 'InverseDifferenceMoment', 'SumAverage', 'SumEntropy', 'SumVariance', 'Variance']\n"
     ]
    }
   ],
   "source": [
    "at_least_21 =[x for x in word_dict.keys() if word_dict[x]>=21]\n",
    "print(len(at_least_21))\n",
    "print(at_least_21)"
   ]
  },
  {
   "cell_type": "code",
   "execution_count": 7,
   "metadata": {},
   "outputs": [
    {
     "name": "stdout",
     "output_type": "stream",
     "text": [
      "CONTROL 0.5444444444444444\n",
      "Cells 0.55\n",
      "AreaShape 0.5527777777777778\n",
      "X 0.5458333333333333\n",
      "Y 0.5472222222222222\n",
      "Zernike 0.55\n",
      "1 0.5541666666666667\n",
      "2 0.5555555555555556\n",
      "3 0.5541666666666667\n",
      "4 0.5388888888888889\n",
      "5 0.5472222222222222\n",
      "6 0.5569444444444445\n",
      "7 0.5430555555555555\n",
      "8 0.548611111111111\n",
      "9 0.5527777777777777\n",
      "Cytoplasm 0.5375\n",
      "Correlation 0.5486111111111112\n",
      "AGP 0.5444444444444444\n",
      "BFHigh 0.5347222222222222\n",
      "BFLow 0.5611111111111111\n",
      "Brightfield 0.5513888888888888\n",
      "DNA 0.5402777777777777\n",
      "ER 0.5472222222222222\n",
      "Mito 0.5347222222222222\n",
      "RNA 0.5472222222222222\n",
      "K 0.5472222222222222\n",
      "Manders 0.5416666666666666\n",
      "Overlap 0.5472222222222222\n",
      "RWC 0.5472222222222222\n",
      "Granularity 0.5458333333333333\n",
      "10 0.5513888888888889\n",
      "11 0.5430555555555555\n",
      "12 0.5513888888888888\n",
      "13 0.5472222222222222\n",
      "14 0.5472222222222222\n",
      "15 0.5444444444444444\n",
      "16 0.5458333333333333\n",
      "Intensity 0.5444444444444444\n",
      "IntegratedIntensityEdge 0.5430555555555555\n",
      "IntegratedIntensity 0.5430555555555555\n",
      "LowerQuartileIntensity 0.5416666666666666\n",
      "MADIntensity 0.5430555555555555\n",
      "MassDisplacement 0.5416666666666666\n",
      "MaxIntensityEdge 0.5444444444444444\n",
      "MaxIntensity 0.5416666666666666\n",
      "MeanIntensityEdge 0.5444444444444444\n",
      "MeanIntensity 0.5444444444444444\n",
      "MedianIntensity 0.5416666666666666\n",
      "MinIntensityEdge 0.5444444444444444\n",
      "MinIntensity 0.5458333333333333\n",
      "StdIntensityEdge 0.5444444444444444\n",
      "StdIntensity 0.5458333333333333\n",
      "UpperQuartileIntensity 0.5430555555555555\n",
      "Location 0.5430555555555555\n",
      "CenterMassIntensity 0.5458333333333333\n",
      "Z 0.5527777777777778\n",
      "Neighbors 0.5444444444444444\n",
      "Nuclei 0.5347222222222222\n",
      "RadialDistribution 0.5375\n",
      "FracAtD 0.5458333333333334\n",
      "1of4 0.5458333333333333\n",
      "2of4 0.5458333333333333\n",
      "3of4 0.5472222222222222\n",
      "4of4 0.5388888888888889\n",
      "MeanFrac 0.5458333333333333\n",
      "RadialCV 0.5416666666666666\n",
      "Texture 0.5527777777777778\n",
      "AngularSecondMoment 0.5458333333333333\n",
      "00 0.548611111111111\n",
      "256 0.5527777777777778\n",
      "01 0.5444444444444444\n",
      "02 0.5472222222222222\n",
      "03 0.55\n",
      "Contrast 0.5444444444444444\n",
      "DifferenceEntropy 0.5430555555555555\n",
      "DifferenceVariance 0.5430555555555555\n",
      "Entropy 0.47777777777777775\n",
      "InfoMeas1 0.5416666666666666\n",
      "InfoMeas2 0.5444444444444444\n",
      "InverseDifferenceMoment 0.5416666666666666\n",
      "SumAverage 0.5430555555555555\n",
      "SumEntropy 0.5430555555555555\n",
      "SumVariance 0.5430555555555555\n",
      "Variance 0.5444444444444444\n"
     ]
    }
   ],
   "source": [
    "single_dropout_df = pandas.DataFrame()\n",
    "for eachdropout in ['CONTROL']+at_least_21:\n",
    "    col_list = [x for x in normalized_master.columns if eachdropout not in x]\n",
    "    dropout_dict = {}\n",
    "    temp_dropout_dict = {}\n",
    "    for eachplate in range(70,78):\n",
    "        try:\n",
    "            normalized = pandas.read_csv(\n",
    "                f'../profiles-pilots/profiles/Stain5_CondC_Standard/BR001202{eachplate}/BR001202{eachplate}_normalized_negcon.csv.gz',\n",
    "                usecols=col_list)\n",
    "            feature_select = do_feature_select(normalized)\n",
    "            temp_dropout_dict[f'{eachplate}_featnum']=len(feature_select.columns)\n",
    "            dropout_dict[eachplate]= calculate_percent_replicating_MOA('','',data_df=feature_select)\n",
    "        except:\n",
    "            dropout_dict[eachplate]=0\n",
    "    results_array = numpy.array(list(dropout_dict.values()))\n",
    "    for k,v in temp_dropout_dict.items():\n",
    "        dropout_dict[k]=v\n",
    "    dropout_dict['Mean']=results_array.mean()\n",
    "    dropout_dict['Median']=numpy.median(results_array)\n",
    "    dropout_dict['Standard deviation']=numpy.std(results_array)\n",
    "    dropout_dict['Dropout']=eachdropout\n",
    "    dropout_dict['n_columns']=len(col_list)\n",
    "    single_dropout_df = single_dropout_df.append(dropout_dict,ignore_index=True)\n",
    "    print(eachdropout,dropout_dict['Mean'])\n",
    "    single_dropout_df.to_csv('checkpoint_csvs/single_dropout.csv',index=False)\n",
    "\n"
   ]
  },
  {
   "cell_type": "code",
   "execution_count": null,
   "metadata": {},
   "outputs": [],
   "source": []
  }
 ],
 "metadata": {
  "interpreter": {
   "hash": "d21b3bfd7694d2323c7a38a56a8d2e4bf000eddaeb89b81246328afcff96040a"
  },
  "kernelspec": {
   "display_name": "Python 3.8.11 64-bit",
   "language": "python",
   "name": "python3"
  },
  "language_info": {
   "codemirror_mode": {
    "name": "ipython",
    "version": 3
   },
   "file_extension": ".py",
   "mimetype": "text/x-python",
   "name": "python",
   "nbconvert_exporter": "python",
   "pygments_lexer": "ipython3",
   "version": "3.8.11"
  },
  "orig_nbformat": 4
 },
 "nbformat": 4,
 "nbformat_minor": 2
}
