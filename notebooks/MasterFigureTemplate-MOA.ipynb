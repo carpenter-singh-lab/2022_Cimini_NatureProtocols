{
 "cells": [
  {
   "cell_type": "code",
   "execution_count": null,
   "metadata": {},
   "outputs": [],
   "source": [
    "!python3 --version"
   ]
  },
  {
   "cell_type": "code",
   "execution_count": null,
   "metadata": {},
   "outputs": [],
   "source": [
    "import pandas\n",
    "\n",
    "from utils import calculate_percent_replicating_MOA, calculate_percent_matching_MOA\n",
    "from utils import plot_simple_comparison, plot_two_comparisons"
   ]
  },
  {
   "cell_type": "code",
   "execution_count": null,
   "metadata": {},
   "outputs": [],
   "source": [
    "variable = 'dummy'\n",
    "variable_to_save = variable.replace(' ','_')"
   ]
  },
  {
   "cell_type": "code",
   "execution_count": null,
   "metadata": {},
   "outputs": [],
   "source": [
    "plate_df = pandas.DataFrame()\n",
    "\n",
    "plate_df = plate_df.append({'Plate Name' : 'X', variable : 'No', 'Batch' : 'Z', \n",
    "'Percent Replicating' : calculate_percent_replicating_MOA(\n",
    "    'Path_to_Z','X'), \n",
    "'Percent Matching' : calculate_percent_matching_MOA(\n",
    "    'Path_to_Z','X')}, ignore_index=True)"
   ]
  },
  {
   "cell_type": "code",
   "execution_count": null,
   "metadata": {},
   "outputs": [],
   "source": [
    "#You may find that running this a couple of times is needed to find a version where the jitter is about right\n",
    "plot_simple_comparison(df=plate_df,x=variable,y='Percent Replicating',hue='Batch')"
   ]
  },
  {
   "cell_type": "code",
   "execution_count": null,
   "metadata": {},
   "outputs": [],
   "source": [
    "plot_simple_comparison(df=plate_df,x=variable,y='Percent Matching',hue='Batch',ylim=[0.05,0.4])"
   ]
  },
  {
   "cell_type": "code",
   "execution_count": null,
   "metadata": {},
   "outputs": [],
   "source": [
    "plot_two_comparisons(df=plate_df,hue='Batch',title_variable=variable)"
   ]
  },
  {
   "cell_type": "code",
   "execution_count": null,
   "metadata": {},
   "outputs": [],
   "source": [
    "plate_df.to_csv(f'checkpoint_csvs/{variable_to_save}.csv',index=False)"
   ]
  }
 ],
 "metadata": {
  "language_info": {
   "name": "python"
  },
  "orig_nbformat": 4
 },
 "nbformat": 4,
 "nbformat_minor": 2
}
