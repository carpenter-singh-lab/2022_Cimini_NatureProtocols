{
 "cells": [
  {
   "cell_type": "code",
   "execution_count": 1,
   "metadata": {},
   "outputs": [
    {
     "name": "stdout",
     "output_type": "stream",
     "text": [
      "Python 3.8.11\n"
     ]
    }
   ],
   "source": [
    "!python3 --version"
   ]
  },
  {
   "cell_type": "code",
   "execution_count": 2,
   "metadata": {},
   "outputs": [
    {
     "name": "stdout",
     "output_type": "stream",
     "text": [
      "pandas version 1.3.4, seaborn version 0.11.2\n"
     ]
    }
   ],
   "source": [
    "import pandas\n",
    "\n",
    "from utils import calculate_percent_replicating_Target, plot_simple_comparison"
   ]
  },
  {
   "cell_type": "code",
   "execution_count": 3,
   "metadata": {},
   "outputs": [],
   "source": [
    "variable = '# of times imaged'\n",
    "\n",
    "plate_df = pandas.DataFrame()\n",
    "\n",
    "plate_df = plate_df.append({'Plate Name List' : ['BR00116991','BR00116992','BR00116993','BR00116994'], \n",
    "variable : 1, 'Batch' : 'unsphered', 'Percent Replicating' : calculate_percent_replicating_Target(\n",
    "    '../profiles-cp-jump1/profiles/2020_11_04_CPJUMP1',\n",
    "    ['BR00116991','BR00116992','BR00116993','BR00116994'])}, ignore_index=True)\n",
    "\n",
    "plate_df = plate_df.append({'Plate Name List' : ['BR00116991','BR00116992','BR00116993','BR00116994'], \n",
    "variable : 1, 'Batch' : 'batch', 'Percent Replicating' : calculate_percent_replicating_Target(\n",
    "    '../profiles-cp-jump1/profiles/2020_11_04_CPJUMP1',\n",
    "    ['BR00116991','BR00116992','BR00116993','BR00116994'],sphere='batch')}, ignore_index=True)\n",
    "\n",
    "plate_df = plate_df.append({'Plate Name List' : ['BR00116991','BR00116992','BR00116993','BR00116994'], \n",
    "variable : 1, 'Batch' : 'plate', 'Percent Replicating' : calculate_percent_replicating_Target(\n",
    "    '../profiles-cp-jump1/profiles/2020_11_04_CPJUMP1',\n",
    "    ['BR00116991','BR00116992','BR00116993','BR00116994'],sphere='plate')}, ignore_index=True)\n",
    "\n",
    "plate_df = plate_df.append({'Plate Name List' : ['BR00116991A','BR00116992A','BR00116993A','BR00116994A'], \n",
    "variable : 2, 'Batch' : 'unsphered', 'Percent Replicating' : calculate_percent_replicating_Target(\n",
    "    '../profiles-cp-jump1/profiles/2020_12_08_CPJUMP1_Bleaching',\n",
    "    ['BR00116991A','BR00116992A','BR00116993A','BR00116994A'])}, ignore_index=True)\n",
    "\n",
    "plate_df = plate_df.append({'Plate Name List' : ['BR00116991A','BR00116992A','BR00116993A','BR00116994A'], \n",
    "variable : 2, 'Batch' : 'batch', 'Percent Replicating' : calculate_percent_replicating_Target(\n",
    "    '../profiles-cp-jump1/profiles/2020_12_08_CPJUMP1_Bleaching',\n",
    "    ['BR00116991A','BR00116992A','BR00116993A','BR00116994A'],sphere='batch')}, ignore_index=True)\n",
    "\n",
    "plate_df = plate_df.append({'Plate Name List' : ['BR00116991A','BR00116992A','BR00116993A','BR00116994A'], \n",
    "variable : 2, 'Batch' : 'plate', 'Percent Replicating' : calculate_percent_replicating_Target(\n",
    "    '../profiles-cp-jump1/profiles/2020_12_08_CPJUMP1_Bleaching',\n",
    "    ['BR00116991A','BR00116992A','BR00116993A','BR00116994A'],sphere='plate')}, ignore_index=True)\n",
    "\n",
    "plate_df = plate_df.append({'Plate Name List' : ['BR00116991B','BR00116992B','BR00116993B','BR00116994B'], \n",
    "variable : 3, 'Batch' : 'unsphered', 'Percent Replicating' : calculate_percent_replicating_Target(\n",
    "    '../profiles-cp-jump1/profiles/2020_12_08_CPJUMP1_Bleaching',\n",
    "    ['BR00116991B','BR00116992B','BR00116993B','BR00116994B'])}, ignore_index=True)\n",
    "\n",
    "plate_df = plate_df.append({'Plate Name List' : ['BR00116991B','BR00116992B','BR00116993B','BR00116994B'], \n",
    "variable : 3, 'Batch' : 'batch', 'Percent Replicating' : calculate_percent_replicating_Target(\n",
    "    '../profiles-cp-jump1/profiles/2020_12_08_CPJUMP1_Bleaching',\n",
    "    ['BR00116991B','BR00116992B','BR00116993B','BR00116994B'],sphere='batch')}, ignore_index=True)\n",
    "\n",
    "plate_df = plate_df.append({'Plate Name List' : ['BR00116991B','BR00116992B','BR00116993B','BR00116994B'], \n",
    "variable : 3, 'Batch' : 'plate', 'Percent Replicating' : calculate_percent_replicating_Target(\n",
    "    '../profiles-cp-jump1/profiles/2020_12_08_CPJUMP1_Bleaching',\n",
    "    ['BR00116991B','BR00116992B','BR00116993B','BR00116994B'],sphere='plate')}, ignore_index=True)\n",
    "\n",
    "plate_df = plate_df.append({'Plate Name List' : ['BR00116991C','BR00116992C','BR00116993C','BR00116994C'], \n",
    "variable : 4, 'Batch' : 'unsphered', 'Percent Replicating' : calculate_percent_replicating_Target(\n",
    "    '../profiles-cp-jump1/profiles/2020_12_08_CPJUMP1_Bleaching',\n",
    "    ['BR00116991C','BR00116992C','BR00116993C','BR00116994C'])}, ignore_index=True)\n",
    "\n",
    "plate_df = plate_df.append({'Plate Name List' : ['BR00116991C','BR00116992C','BR00116993C','BR00116994C'], \n",
    "variable : 4, 'Batch' : 'batch', 'Percent Replicating' : calculate_percent_replicating_Target(\n",
    "    '../profiles-cp-jump1/profiles/2020_12_08_CPJUMP1_Bleaching',\n",
    "    ['BR00116991C','BR00116992C','BR00116993C','BR00116994C'],sphere='batch')}, ignore_index=True)\n",
    "\n",
    "plate_df = plate_df.append({'Plate Name List' : ['BR00116991C','BR00116992C','BR00116993C','BR00116994C'], \n",
    "variable : 4, 'Batch' : 'plate', 'Percent Replicating' : calculate_percent_replicating_Target(\n",
    "    '../profiles-cp-jump1/profiles/2020_12_08_CPJUMP1_Bleaching',\n",
    "    ['BR00116991C','BR00116992C','BR00116993C','BR00116994C'],sphere='plate')}, ignore_index=True)\n",
    "\n",
    "plate_df = plate_df.append({'Plate Name List' : ['BR00116991D','BR00116992D','BR00116993D','BR00116994D'], \n",
    "variable : 5, 'Batch' : 'unsphered', 'Percent Replicating' : calculate_percent_replicating_Target(\n",
    "    '../profiles-cp-jump1/profiles/2020_12_08_CPJUMP1_Bleaching',\n",
    "    ['BR00116991D','BR00116992D','BR00116993D','BR00116994D'])}, ignore_index=True)\n",
    "\n",
    "plate_df = plate_df.append({'Plate Name List' : ['BR00116991D','BR00116992D','BR00116993D','BR00116994D'], \n",
    "variable : 5, 'Batch' : 'batch', 'Percent Replicating' : calculate_percent_replicating_Target(\n",
    "    '../profiles-cp-jump1/profiles/2020_12_08_CPJUMP1_Bleaching',\n",
    "    ['BR00116991D','BR00116992D','BR00116993D','BR00116994D'],sphere='batch')}, ignore_index=True)\n",
    "\n",
    "plate_df = plate_df.append({'Plate Name List' : ['BR00116991D','BR00116992D','BR00116993D','BR00116994D'], \n",
    "variable : 5, 'Batch' : 'plate', 'Percent Replicating' : calculate_percent_replicating_Target(\n",
    "    '../profiles-cp-jump1/profiles/2020_12_08_CPJUMP1_Bleaching',\n",
    "    ['BR00116991D','BR00116992D','BR00116993D','BR00116994D'],sphere='plate')}, ignore_index=True)\n",
    "\n",
    "plate_df = plate_df.append({'Plate Name List' : ['BR00116991E','BR00116992E','BR00116993E','BR00116994E'], \n",
    "variable : 6, 'Batch' : 'unsphered', 'Percent Replicating' : calculate_percent_replicating_Target(\n",
    "    '../profiles-cp-jump1/profiles/2020_12_08_CPJUMP1_Bleaching',\n",
    "    ['BR00116991E','BR00116992E','BR00116993E','BR00116994E'])}, ignore_index=True)\n",
    "\n",
    "plate_df = plate_df.append({'Plate Name List' : ['BR00116991E','BR00116992E','BR00116993E','BR00116994E'], \n",
    "variable : 6, 'Batch' : 'batch', 'Percent Replicating' : calculate_percent_replicating_Target(\n",
    "    '../profiles-cp-jump1/profiles/2020_12_08_CPJUMP1_Bleaching',\n",
    "    ['BR00116991E','BR00116992E','BR00116993E','BR00116994E'],sphere='batch')}, ignore_index=True)\n",
    "\n",
    "plate_df = plate_df.append({'Plate Name List' : ['BR00116991E','BR00116992E','BR00116993E','BR00116994E'], \n",
    "variable : 6, 'Batch' : 'plate', 'Percent Replicating' : calculate_percent_replicating_Target(\n",
    "    '../profiles-cp-jump1/profiles/2020_12_08_CPJUMP1_Bleaching',\n",
    "    ['BR00116991E','BR00116992E','BR00116993E','BR00116994E'],sphere='plate')}, ignore_index=True)\n",
    "\n",
    "plate_df = plate_df.append({'Plate Name List' : ['BR00116991F','BR00116992F','BR00116993F','BR00116994F'], \n",
    "variable : 7, 'Batch' : 'unsphered', 'Percent Replicating' : calculate_percent_replicating_Target(\n",
    "    '../profiles-cp-jump1/profiles/2020_12_08_CPJUMP1_Bleaching',\n",
    "    ['BR00116991F','BR00116992F','BR00116993F','BR00116994F'])}, ignore_index=True)\n",
    "\n",
    "plate_df = plate_df.append({'Plate Name List' : ['BR00116991F','BR00116992F','BR00116993F','BR00116994F'], \n",
    "variable : 7, 'Batch' : 'batch', 'Percent Replicating' : calculate_percent_replicating_Target(\n",
    "    '../profiles-cp-jump1/profiles/2020_12_08_CPJUMP1_Bleaching',\n",
    "    ['BR00116991F','BR00116992F','BR00116993F','BR00116994F'],sphere='batch')}, ignore_index=True)\n",
    "\n",
    "plate_df = plate_df.append({'Plate Name List' : ['BR00116991F','BR00116992F','BR00116993F','BR00116994F'], \n",
    "variable : 7, 'Batch' : 'plate', 'Percent Replicating' : calculate_percent_replicating_Target(\n",
    "    '../profiles-cp-jump1/profiles/2020_12_08_CPJUMP1_Bleaching',\n",
    "    ['BR00116991F','BR00116992F','BR00116993F','BR00116994F'],sphere='plate')}, ignore_index=True)\n",
    "\n"
   ]
  },
  {
   "cell_type": "code",
   "execution_count": 4,
   "metadata": {},
   "outputs": [
    {
     "name": "stdout",
     "output_type": "stream",
     "text": [
      "Saved to ../figures/# of times imaged-Batch.png\n"
     ]
    },
    {
     "data": {
      "image/png": "[encoded data removed]",
      "text/plain": [
       "<Figure size 470.395x360 with 1 Axes>"
      ]
     },
     "metadata": {},
     "output_type": "display_data"
    }
   ],
   "source": [
    "#You may find that running this a couple of times is needed to find a version where the jitter is about right\n",
    "plot_simple_comparison(df=plate_df,x=variable,hue='Batch')"
   ]
  }
 ],
 "metadata": {
  "interpreter": {
   "hash": "d21b3bfd7694d2323c7a38a56a8d2e4bf000eddaeb89b81246328afcff96040a"
  },
  "kernelspec": {
   "display_name": "Python 3.8.11 64-bit",
   "language": "python",
   "name": "python3"
  },
  "language_info": {
   "name": "python",
   "version": "3.8.11"
  },
  "orig_nbformat": 4
 },
 "nbformat": 4,
 "nbformat_minor": 2
}
