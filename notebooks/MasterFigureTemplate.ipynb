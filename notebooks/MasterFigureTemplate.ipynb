{
 "cells": [
  {
   "cell_type": "code",
   "execution_count": null,
   "metadata": {},
   "outputs": [],
   "source": [
    "!python3 --version"
   ]
  },
  {
   "cell_type": "code",
   "execution_count": null,
   "metadata": {},
   "outputs": [],
   "source": [
    "import pandas\n",
    "\n",
    "from utils import calculate_percent_replicating_MOA, calculate_percent_replicating_Target, plot_simple_comparison"
   ]
  },
  {
   "cell_type": "code",
   "execution_count": null,
   "metadata": {},
   "outputs": [],
   "source": [
    "variable = 'dummy'\n",
    "\n",
    "plate_df = pandas.DataFrame()\n",
    "\n",
    "plate_df = plate_df.append({'Plate Name' : 'X', variable : 'No', 'Batch' : 'Z', \n",
    "'Percent Replicating' : calculate_percent_replicating_MOA(\n",
    "    'Path_to_Z','X')}, ignore_index=True)"
   ]
  },
  {
   "cell_type": "code",
   "execution_count": null,
   "metadata": {},
   "outputs": [],
   "source": [
    "#You may find that running this a couple of times is needed to find a version where the jitter is about right\n",
    "plot_simple_comparison(df=plate_df,x=variable,hue='Batch')"
   ]
  }
 ],
 "metadata": {
  "language_info": {
   "name": "python"
  },
  "orig_nbformat": 4
 },
 "nbformat": 4,
 "nbformat_minor": 2
}
