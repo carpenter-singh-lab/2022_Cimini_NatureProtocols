{
 "cells": [
  {
   "cell_type": "code",
   "execution_count": null,
   "metadata": {},
   "outputs": [],
   "source": [
    "!python3 --version"
   ]
  },
  {
   "cell_type": "code",
   "execution_count": null,
   "metadata": {},
   "outputs": [],
   "source": [
    "import os\n",
    "import pandas\n",
    "import seaborn as sns\n",
    "print(f\"pandas version {pandas.__version__}, seaborn version {sns.__version__}\")\n",
    "\n",
    "from utils import calculate_percent_replicating, plot_simple_comparison"
   ]
  },
  {
   "cell_type": "code",
   "execution_count": null,
   "metadata": {},
   "outputs": [],
   "source": [
    "variable = 'dummy'\n",
    "\n",
    "plate_df = pandas.DataFrame()\n",
    "plate_df = plate_df.append({'Plate Name' : 'X', variable : 'No', 'Batch' : 'Z', \n",
    "'Percent Replicating' : calculate_percent_replicating(\n",
    "    'Path_to_Z','X')}, ignore_index=True)"
   ]
  },
  {
   "cell_type": "code",
   "execution_count": null,
   "metadata": {},
   "outputs": [],
   "source": [
    "plot_simple_comparison(df=plate_df,x=variable,hue='Batch')"
   ]
  }
 ],
 "metadata": {
  "language_info": {
   "name": "python"
  },
  "orig_nbformat": 4
 },
 "nbformat": 4,
 "nbformat_minor": 2
}
