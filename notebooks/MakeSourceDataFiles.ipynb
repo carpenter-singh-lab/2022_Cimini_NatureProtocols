{
 "cells": [
  {
   "cell_type": "code",
   "execution_count": 1,
   "metadata": {},
   "outputs": [],
   "source": [
    "import pandas\n",
    "import os"
   ]
  },
  {
   "cell_type": "code",
   "execution_count": 3,
   "metadata": {},
   "outputs": [],
   "source": [
    "figure_dict = {\n",
    "    'Figure_2':{\n",
    "        '2A':'../profiles-pilots/metadata/JUMP-MOA_compound_platemap_with_metadata.csv',\n",
    "        '2B_Target1_genes':'../profiles-cp-jump1/metadata/moa/cpjump1_compound_metadata.tsv',\n",
    "        '2B_Target1':'../profiles-cp-jump1/metadata/platemaps/2020_11_04_CPJUMP1/platemap/C-7210-01-CMP-013.txt',\n",
    "        '2B_Target2_genes':'../profiles-pilots/metadata/moa/JUMP-Target-2_compound_metadata.tsv',\n",
    "        '2B_Target2_platemap':'../profiles-pilots/metadata/platemaps/2021_04_20_Target2/platemap/JUMP-Target-2_compound_platemap.txt',\n",
    "        '2B_ORF_genes':'../profiles-cp-jump1/metadata/moa/cpjump1_orf_metadata.tsv',\n",
    "        '2B_ORF_platemap':'../profiles-cp-jump1/metadata/platemaps/2020_11_04_CPJUMP1/platemap/DOG.30.31.32.33.A.txt',\n",
    "        '2B_CRISPR_genes':'../profiles-cp-jump1/metadata/moa/cpjump1_crispr_metadata.tsv',\n",
    "        '2B_CRISPR_platemap':'../profiles-cp-jump1/metadata/platemaps/2020_11_04_CPJUMP1/platemap/DXH.92.93.94.95.A.txt',\n",
    "        },\n",
    "    'Figure_3':{\n",
    "        '3A':'checkpoint_csvs/AssessPolyclonesMonoclones-Replicating.csv',\n",
    "        '3B':'checkpoint_csvs/Treatment_timepoint-matching.csv'\n",
    "        },\n",
    "    'Figure_4':{\n",
    "        '4A':'checkpoint_csvs/AssessStains-OfficialVersions.csv',\n",
    "        '4B':'checkpoint_csvs/Reagent_source.csv',\n",
    "        '4C':'checkpoint_csvs/Days_between_staining_and_imaging-replicating.csv'\n",
    "        },\n",
    "    'Figure_5':{\n",
    "        '5A':'checkpoint_csvs/Imaging_modality.csv',\n",
    "        '5B':'checkpoint_csvs/Fields_of_view-replicating.csv',\n",
    "        '5C':'checkpoint_csvs/Binning.csv',\n",
    "        '5D':'checkpoint_csvs/Exposure_level.csv',\n",
    "        '5E':'checkpoint_csvs/Number_of_times_imaged-replicating.csv'\n",
    "        },\n",
    "    'Figure_6':{\n",
    "        '6A':'checkpoint_csvs/feature_dropout_combinations.csv',\n",
    "        '6B':'checkpoint_csvs/compartment_dropout_combinations.csv',\n",
    "        '6C':'checkpoint_csvs/Measurement_scales.csv'\n",
    "        },\n",
    "    'Extended_Data_Figure_1':{\n",
    "        'ED1':'../profiles-pilots/metadata/JUMP-MOA_compound_platemap_with_metadata.csv'\n",
    "        },\n",
    "    'Extended_Data_Figure_2':{\n",
    "        'ED2B':'checkpoint_csvs/Treatment_timepoint-replicating.csv',\n",
    "        'ED2B':'checkpoint_csvs/AssessDensity-Matching.csv',\n",
    "        'ED2C':'checkpoint_csvs/AssessCompoundsInCas9-Matching.csv'\n",
    "        },\n",
    "    'Extended_Data_Figure_3':{\n",
    "        'ED3A':'checkpoint_csvs/Drug_selection-matching.csv',\n",
    "        'ED3B':'checkpoint_csvs/Drug_selection-replicating.csv',\n",
    "        'ED3C':'checkpoint_csvs/Polybrene_effect_on_compounds_and_matching-cross-plate-replication.csv',\n",
    "        'ED3D':'checkpoint_csvs/Polybrene_effect_on_compounds_and_matching-matching.csv'\n",
    "        },\n",
    "    'Extended_Data_Figure_4':{\n",
    "        'ED4A':'checkpoint_csvs/AssessStains-Permeabilization.csv',\n",
    "        'ED4B':'checkpoint_csvs/Plate_type.csv'\n",
    "        },\n",
    "    'Extended_Data_Figure_5':{\n",
    "        'ED5A':'checkpoint_csvs/AssessStains-ReduceAllStains.csv',\n",
    "        'ED5B':'checkpoint_csvs/AssessStains-ReduceSomeStains.csv'\n",
    "        },\n",
    "    'Extended_Data_Figure_6':{\n",
    "        'ED6A':'checkpoint_csvs/Microscope.csv',\n",
    "        'ED6B':'checkpoint_csvs/Multiplane.csv'\n",
    "        },\n",
    "    'Extended_Data_Figures_7_and_8':{\n",
    "        'ED7_and_8':'checkpoint_csvs/channel_dropout_combinations.csv'\n",
    "        },\n",
    "    'Extended_Data_Figure_9':{\n",
    "        'ED9_DNA':'checkpoint_csvs/DNA_only_feature_dropout_combinations.csv',\n",
    "        'ED9_ER':'checkpoint_csvs/ER_only_feature_dropout_combinations.csv',\n",
    "        'ED9_RNA':'checkpoint_csvs/RNA_only_feature_dropout_combinations.csv',\n",
    "        'ED9_AGP':'checkpoint_csvs/AGP_only_feature_dropout_combinations.csv',\n",
    "        'ED9_Mito':'checkpoint_csvs/Mito_only_feature_dropout_combinations.csv',\n",
    "        'ED9_Brightfield':'checkpoint_csvs/Brightfield_only_feature_dropout_combinations.csv',\n",
    "        'ED9_BFLow':'checkpoint_csvs/BFLow_only_feature_dropout_combinations.csv',\n",
    "        'ED9_BFHigh':'checkpoint_csvs/BFHigh_only_feature_dropout_combinations.csv'\n",
    "    },\n",
    "}"
   ]
  },
  {
   "cell_type": "code",
   "execution_count": 4,
   "metadata": {},
   "outputs": [],
   "source": [
    "for eachfigure, _ in figure_dict.items():\n",
    "    file_name = f\"../source_data_files/{eachfigure}_SourceData.xlsx\"\n",
    "    with pandas.ExcelWriter(file_name) as EW:\n",
    "        for eachpanel,panel_csv in figure_dict[eachfigure].items():\n",
    "            if '.csv' in panel_csv:\n",
    "                delim = ','\n",
    "            else:\n",
    "                delim = '\\t'\n",
    "            df = pandas.read_csv(panel_csv,delimiter=delim)\n",
    "            df.to_excel(EW,sheet_name=eachpanel,index=False)\n",
    "    "
   ]
  }
 ],
 "metadata": {
  "kernelspec": {
   "display_name": "Python 3.8.15 64-bit",
   "language": "python",
   "name": "python3"
  },
  "language_info": {
   "codemirror_mode": {
    "name": "ipython",
    "version": 3
   },
   "file_extension": ".py",
   "mimetype": "text/x-python",
   "name": "python",
   "nbconvert_exporter": "python",
   "pygments_lexer": "ipython3",
   "version": "3.8.16 (default, Dec  7 2022, 01:24:57) \n[Clang 14.0.0 (clang-1400.0.29.202)]"
  },
  "orig_nbformat": 4,
  "vscode": {
   "interpreter": {
    "hash": "b0139c45f3101d02256c49e404c69cbeadb20492fa8d7c464de4f3d908da00b6"
   }
  }
 },
 "nbformat": 4,
 "nbformat_minor": 2
}
