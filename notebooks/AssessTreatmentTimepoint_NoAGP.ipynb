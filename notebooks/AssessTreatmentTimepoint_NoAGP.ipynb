{
 "cells": [
  {
   "cell_type": "code",
   "execution_count": 1,
   "metadata": {},
   "outputs": [
    {
     "name": "stdout",
     "output_type": "stream",
     "text": [
      "Python 3.8.11\n"
     ]
    }
   ],
   "source": [
    "!python3 --version"
   ]
  },
  {
   "cell_type": "code",
   "execution_count": 2,
   "metadata": {},
   "outputs": [],
   "source": [
    "import pandas\n",
    "from utils import calculate_percent_matching_with_feature_dropout_Target\n",
    "from utils import plot_simple_comparison\n",
    "from utils import enforce_modality_match_order, enforce_timepoint_order, enforce_timepoint_order_in_plot, enforce_modality_match_order_in_plot"
   ]
  },
  {
   "cell_type": "code",
   "execution_count": 3,
   "metadata": {},
   "outputs": [],
   "source": [
    "variable = 'Treatment timepoint'\n",
    "variable_to_save = variable.replace(' ','_')\n",
    "\n",
    "experiment_dict = {\n",
    "    'A549':{\n",
    "        'Compounds':{\n",
    "            24:['BR00116991','BR00116992','BR00116993','BR00116994'],\n",
    "            48:['BR00117015','BR00117016','BR00117017','BR00117019']},\n",
    "        'ORF':{\n",
    "            48:['BR00117020','BR00117021'],\n",
    "            96:['BR00118050','BR00117006']},\n",
    "        'CRISPR':{\n",
    "            96:['BR00118041','BR00118042','BR00118043','BR00118044'],\n",
    "            144:['BR00117000','BR00117003','BR00117004','BR00117005']}\n",
    "            },\n",
    "    'U2OS':{\n",
    "        'Compounds':{\n",
    "            24:['BR00116995','BR00117024','BR00117025','BR00117026'],\n",
    "            48:['BR00117010','BR00117011','BR00117012','BR00117013']},\n",
    "        'ORF':{\n",
    "            48:['BR00117022','BR00117023'],\n",
    "            96:['BR00118039','BR00118040']},\n",
    "        'CRISPR':{\n",
    "            96:['BR00118045','BR00118046','BR00118047','BR00118048'],\n",
    "            144:['BR00116996','BR00116997','BR00116998','BR00116999' ]}\n",
    "            }\n",
    "    }\n"
   ]
  },
  {
   "cell_type": "code",
   "execution_count": 4,
   "metadata": {},
   "outputs": [],
   "source": [
    "variable = 'Treatment timepoint'\n",
    "\n",
    "plate_match_df = pandas.DataFrame()\n",
    "\n",
    "comparison_list = []\n",
    "\n",
    "for eachline in list(experiment_dict.keys()):\n",
    "    for eachmodality1 in list(experiment_dict[eachline].keys()):\n",
    "        for eachmodality2 in list(experiment_dict[eachline].keys()):\n",
    "            for eachtimepoint1 in list(experiment_dict[eachline][eachmodality1].keys()):\n",
    "                for eachtimepoint2 in list(experiment_dict[eachline][eachmodality2].keys()):\n",
    "                    string1 = f\"{eachline}-{eachmodality1}-{eachtimepoint1}\"\n",
    "                    string2 = f\"{eachline}-{eachmodality2}-{eachtimepoint2}\"\n",
    "                    if string1 != string2:\n",
    "                        if f\"{string1}-{string2}\" not in comparison_list:\n",
    "                            if f\"{string2}-{string1}\" not in comparison_list:\n",
    "                                comparison_list.append(f\"{string1}-{string2}\")\n",
    "                                plate_match_df = plate_match_df.append({'Percent Matching' : calculate_percent_matching_with_feature_dropout_Target(\n",
    "                                    '../profiles-cp-jump1/profiles/2020_11_04_CPJUMP1',\n",
    "                                    experiment_dict[eachline][eachmodality1][eachtimepoint1],eachmodality1, \n",
    "                                    '../profiles-cp-jump1/profiles/2020_11_04_CPJUMP1',\n",
    "                                    experiment_dict[eachline][eachmodality2][eachtimepoint2],eachmodality2),\n",
    "                                    'Modality 1':eachmodality1,'Modality 2':eachmodality2, 'Modality Match -AGP':enforce_modality_match_order(eachmodality1,eachmodality2),\n",
    "                                    variable:enforce_timepoint_order(eachtimepoint1,eachtimepoint2),'Cell Type':eachline}, ignore_index=True)\n"
   ]
  },
  {
   "cell_type": "code",
   "execution_count": null,
   "metadata": {},
   "outputs": [],
   "source": [
    "hue_order = enforce_timepoint_order_in_plot(list(plate_match_df['Treatment timepoint']))\n",
    "col_order = enforce_modality_match_order_in_plot(list(plate_match_df['Modality Match -AGP']))\n",
    "\n",
    "x = 'Cell Type'\n",
    "y = 'Percent Matching'\n",
    "hue = variable\n",
    "col = 'Modality Match -AGP'"
   ]
  },
  {
   "cell_type": "code",
   "execution_count": null,
   "metadata": {},
   "outputs": [],
   "source": [
    "plot_simple_comparison(df=plate_match_df,x=x,y=y,hue=hue,\n",
    "hue_order=hue_order, col = col, col_order = col_order, col_wrap=3,ylim=[5,40],\n",
    "plotname=f\"{x}-{y}-{hue}-{col}.png\")"
   ]
  },
  {
   "cell_type": "code",
   "execution_count": null,
   "metadata": {},
   "outputs": [],
   "source": [
    "plate_match_df.to_csv(f'checkpoint_csvs/{variable_to_save}-matching-noAGP.csv',index=False)"
   ]
  }
 ],
 "metadata": {
  "interpreter": {
   "hash": "d21b3bfd7694d2323c7a38a56a8d2e4bf000eddaeb89b81246328afcff96040a"
  },
  "kernelspec": {
   "display_name": "Python 3.8.11 64-bit",
   "language": "python",
   "name": "python3"
  },
  "language_info": {
   "codemirror_mode": {
    "name": "ipython",
    "version": 3
   },
   "file_extension": ".py",
   "mimetype": "text/x-python",
   "name": "python",
   "nbconvert_exporter": "python",
   "pygments_lexer": "ipython3",
   "version": "3.8.11"
  },
  "orig_nbformat": 4
 },
 "nbformat": 4,
 "nbformat_minor": 2
}
