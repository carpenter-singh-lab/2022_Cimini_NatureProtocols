{
 "cells": [
  {
   "cell_type": "code",
   "execution_count": null,
   "metadata": {},
   "outputs": [],
   "source": [
    "!python3 --version"
   ]
  },
  {
   "cell_type": "code",
   "execution_count": null,
   "metadata": {},
   "outputs": [],
   "source": [
    "import pandas\n",
    "\n",
    "from utils import calculate_percent_replicating_Target,calculate_percent_matching_Target\n",
    "from utils import plot_simple_comparison, plot_two_comparisons\n",
    "from utils import enforce_modality_match_order, enforce_timepoint_order, enforce_timepoint_order_in_plot, enforce_modality_match_order_in_plot"
   ]
  },
  {
   "cell_type": "code",
   "execution_count": null,
   "metadata": {},
   "outputs": [],
   "source": [
    "variable = 'dummy'\n",
    "variable_to_save = variable.replace(' ','_')\n",
    "\n",
    "experiment_dict = {\n",
    "    'Cell Line':{\n",
    "        'Modality':{\n",
    "            'Density/Timepoint':[]}\n",
    "            }\n",
    "    }\n",
    "\n"
   ]
  },
  {
   "cell_type": "code",
   "execution_count": null,
   "metadata": {},
   "outputs": [],
   "source": [
    "plate_df = pandas.DataFrame()\n",
    "\n",
    "plate_df = plate_df.append({'Plate Name List' : ['X','Y','Z'], \n",
    "variable : 'No', 'Batch' : 'A', 'Percent Replicating' : calculate_percent_replicating_Target(\n",
    "    'Path_to_A',['X','Y','Z'])}, ignore_index=True)"
   ]
  },
  {
   "cell_type": "code",
   "execution_count": null,
   "metadata": {},
   "outputs": [],
   "source": [
    "plot_simple_comparison(df=plate_df,x=variable,y='Percent Replicating',hue='Batch')"
   ]
  },
  {
   "cell_type": "code",
   "execution_count": null,
   "metadata": {},
   "outputs": [],
   "source": [
    "plate_df.to_csv(f'checkpoint_csvs/{variable_to_save}-replicating.csv',index=False)"
   ]
  },
  {
   "cell_type": "code",
   "execution_count": null,
   "metadata": {},
   "outputs": [],
   "source": [
    "plate_match_df = pandas.DataFrame()\n",
    "\n",
    "comparison_list = []\n",
    "\n",
    "for eachline1 in list(experiment_dict.keys()):\n",
    "    for eachline2 in list(experiment_dict.keys()):\n",
    "        for eachmodality1 in list(experiment_dict[eachline1].keys()):\n",
    "            for eachmodality2 in list(experiment_dict[eachline2].keys()):\n",
    "                for eachtimepoint1 in list(experiment_dict[eachline1][eachmodality1].keys()):\n",
    "                    for eachtimepoint2 in list(experiment_dict[eachline2][eachmodality2].keys()):\n",
    "                        string1 = f\"{eachline1}-{eachmodality1}-{eachtimepoint1}\"\n",
    "                        string2 = f\"{eachline2}-{eachmodality2}-{eachtimepoint2}\"\n",
    "                        if string1 != string2:\n",
    "                            if f\"{string1}-{string2}\" not in comparison_list:\n",
    "                                if f\"{string2}-{string1}\" not in comparison_list:\n",
    "                                    comparison_list.append(f\"{string1}-{string2}\")\n",
    "                                    plate_match_df = plate_match_df.append({'Percent Matching' : calculate_percent_matching_Target(\n",
    "                                        '../profiles-cp-jump1/profiles/2020_11_04_CPJUMP1',\n",
    "                                        experiment_dict[eachline1][eachmodality1][eachtimepoint1],eachmodality1, \n",
    "                                        '../profiles-cp-jump1/profiles/2020_11_04_CPJUMP1',\n",
    "                                        experiment_dict[eachline2][eachmodality2][eachtimepoint2],eachmodality2),\n",
    "                                        'Modality Match' : enforce_modality_match_order(eachmodality1,eachmodality2), \n",
    "                                        'Treatment timepoint':enforce_timepoint_order(eachtimepoint1,eachtimepoint2),\n",
    "                                        variable:f\"{eachline1} - {eachline2}\"}, ignore_index=True)"
   ]
  },
  {
   "cell_type": "code",
   "execution_count": null,
   "metadata": {},
   "outputs": [],
   "source": [
    "# Adjust below as needed\n",
    "hue_order = enforce_timepoint_order_in_plot(list(plate_match_df['Treatment timepoint']))\n",
    "col_order = enforce_modality_match_order_in_plot(list(plate_match_df['Modality Match']))\n",
    "\n",
    "x = variable\n",
    "y = 'Percent Matching'\n",
    "hue = 'Treatment timepoint'\n",
    "col = 'Modality Match'\n"
   ]
  },
  {
   "cell_type": "code",
   "execution_count": null,
   "metadata": {},
   "outputs": [],
   "source": [
    "plot_simple_comparison(df=plate_match_df,x=x,y=y,hue=hue,\n",
    "hue_order=hue_order, col = col, col_order = col_order, col_wrap=3,ylim=[0.05,0.4],\n",
    "plotname=f\"{x}-{y}-{hue}-{col}.png\")"
   ]
  },
  {
   "cell_type": "code",
   "execution_count": null,
   "metadata": {},
   "outputs": [],
   "source": [
    "plate_match_df.to_csv(f'checkpoint_csvs/{variable_to_save}-matching.csv',index=False)"
   ]
  }
 ],
 "metadata": {
  "interpreter": {
   "hash": "d21b3bfd7694d2323c7a38a56a8d2e4bf000eddaeb89b81246328afcff96040a"
  },
  "kernelspec": {
   "display_name": "Python 3.8.11 64-bit",
   "language": "python",
   "name": "python3"
  },
  "language_info": {
   "name": "python",
   "version": "3.8.11"
  },
  "orig_nbformat": 4
 },
 "nbformat": 4,
 "nbformat_minor": 2
}
