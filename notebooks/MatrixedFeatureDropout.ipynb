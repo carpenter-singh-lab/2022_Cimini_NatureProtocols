{
 "cells": [
  {
   "cell_type": "code",
   "execution_count": 1,
   "id": "016f0529",
   "metadata": {},
   "outputs": [
    {
     "name": "stdout",
     "output_type": "stream",
     "text": [
      "Python 3.8.10\r\n"
     ]
    }
   ],
   "source": [
    "!python3 --version"
   ]
  },
  {
   "cell_type": "code",
   "execution_count": 2,
   "id": "de79fe76",
   "metadata": {},
   "outputs": [],
   "source": [
    "import os\n",
    "import itertools\n",
    "\n",
    "import pandas\n",
    "import numpy\n",
    "import pycytominer\n",
    "\n",
    "from utils import calculate_percent_replicating_MOA"
   ]
  },
  {
   "cell_type": "code",
   "execution_count": 3,
   "id": "104da192",
   "metadata": {},
   "outputs": [],
   "source": [
    "def do_feature_select(plate_df):\n",
    "    feature_select_features = pycytominer.cyto_utils.infer_cp_features(\n",
    "        plate_df\n",
    "    )\n",
    "\n",
    "    return pycytominer.feature_select(\n",
    "        profiles=plate_df,\n",
    "        features=feature_select_features,\n",
    "        operation=['variance_threshold','correlation_threshold',\n",
    "        'drop_na_columns','blocklist']\n",
    "    )"
   ]
  },
  {
   "cell_type": "code",
   "execution_count": 4,
   "id": "e20c1ea6",
   "metadata": {},
   "outputs": [],
   "source": [
    "def all_combo_dropouts_in_a_category(category_list,outfile,subsample=None):\n",
    "    to_try = [y for x in range(len(category_list)) for y in list(set(itertools.combinations(category_list,x)))]\n",
    "\n",
    "    if os.path.exists(outfile):\n",
    "        dropout_df = pandas.read_csv(outfile)\n",
    "        tried=list(dropout_df['Dropout'])\n",
    "        print(f\"Already try {tried},skipping\")\n",
    "        to_try = [x for x in to_try if str(x) not in tried]\n",
    "    else:\n",
    "        dropout_df = pandas.DataFrame()\n",
    "    for eachdropout in to_try:\n",
    "        normalized_master = pandas.read_csv('../profiles-pilots/profiles/Stain5_CondC_Standard/BR00120274/BR00120274_normalized_negcon.csv.gz')\n",
    "        col_list = normalized_master.columns\n",
    "        if subsample:\n",
    "             for each_item in subsample:\n",
    "                metadata_list = [x for x in col_list if 'Metadata' in x] \n",
    "                col_list = metadata_list+[x for x in col_list if each_item in x]\n",
    "        for each_item in eachdropout:\n",
    "            col_list = [x for x in col_list if each_item not in x]\n",
    "        dropout_dict = {}\n",
    "        temp_dropout_dict = {}\n",
    "        for eachplate in range(70,78):\n",
    "            normalized = pandas.read_csv(\n",
    "                f'../profiles-pilots/profiles/Stain5_CondC_Standard/BR001202{eachplate}/BR001202{eachplate}_normalized_negcon.csv.gz',\n",
    "                usecols=col_list)\n",
    "            feature_select = do_feature_select(normalized)\n",
    "            temp_dropout_dict[f'{eachplate}_featnum']=len(feature_select.columns)\n",
    "            dropout_dict[f'BR001202{eachplate}']= calculate_percent_replicating_MOA('','',data_df=feature_select)\n",
    "\n",
    "        results_array = numpy.array(list(dropout_dict.values()))\n",
    "        for k,v in temp_dropout_dict.items():\n",
    "            dropout_dict[k]=v\n",
    "        dropout_dict['Mean']=results_array.mean()\n",
    "        dropout_dict['Median']=numpy.median(results_array)\n",
    "        dropout_dict['Standard deviation']=numpy.std(results_array)\n",
    "        dropout_dict['Dropout']=eachdropout\n",
    "        dropout_dict['Remaining'] = [x for x in category_list if x not in eachdropout]\n",
    "        dropout_dict['n_columns']=len(col_list)\n",
    "        dropout_df = dropout_df.append(dropout_dict,ignore_index=True)\n",
    "        print(eachdropout,dropout_dict['Mean'])\n",
    "        dropout_df.to_csv(outfile,index=False)\n",
    "    print(dropout_df['Mean'].describe())\n",
    "    print(dropout_df['Median'].describe())"
   ]
  },
  {
   "cell_type": "code",
   "execution_count": 5,
   "id": "f40feaec",
   "metadata": {},
   "outputs": [
    {
     "name": "stdout",
     "output_type": "stream",
     "text": [
      "Already try ['()', \"('Cytoplasm',)\", \"('Cells',)\", \"('Nuclei',)\", \"('Nuclei', 'Cells')\", \"('Cells', 'Cytoplasm')\", \"('Nuclei', 'Cytoplasm')\"],skipping\n",
      "count    7.000000\n",
      "mean     0.525397\n",
      "std      0.022305\n",
      "min      0.495833\n",
      "25%      0.506250\n",
      "50%      0.536111\n",
      "75%      0.540972\n",
      "max      0.551389\n",
      "Name: Mean, dtype: float64\n",
      "count    7.000000\n",
      "mean     0.530159\n",
      "std      0.019207\n",
      "min      0.500000\n",
      "25%      0.516667\n",
      "50%      0.538889\n",
      "75%      0.544444\n",
      "max      0.550000\n",
      "Name: Median, dtype: float64\n"
     ]
    }
   ],
   "source": [
    "all_combo_dropouts_in_a_category(['Nuclei','Cells','Cytoplasm'],\n",
    "                                 'checkpoint_csvs/compartment_dropout_combinations.csv')"
   ]
  },
  {
   "cell_type": "code",
   "execution_count": 6,
   "id": "dfb10a2e",
   "metadata": {},
   "outputs": [
    {
     "name": "stdout",
     "output_type": "stream",
     "text": [
      "Already try ['()', \"('Mito',)\", \"('RNA',)\", \"('Brightfield',)\", \"('DNA',)\", \"('BFLow',)\", \"('BFHigh',)\", \"('ER',)\", \"('AGP',)\", \"('DNA', 'ER')\", \"('DNA', 'RNA')\", \"('RNA', 'ER')\", \"('ER', 'Mito')\", \"('ER', 'BFLow')\", \"('ER', 'Brightfield')\", \"('ER', 'BFHigh')\", \"('BFLow', 'BFHigh')\", \"('Brightfield', 'BFHigh')\", \"('Brightfield', 'BFLow')\", \"('DNA', 'Mito')\", \"('DNA', 'BFLow')\", \"('DNA', 'Brightfield')\", \"('DNA', 'BFHigh')\", \"('Mito', 'Brightfield')\", \"('Mito', 'BFLow')\", \"('Mito', 'BFHigh')\", \"('RNA', 'Brightfield')\", \"('AGP', 'BFLow')\", \"('AGP', 'BFHigh')\", \"('ER', 'AGP')\", \"('RNA', 'BFLow')\", \"('RNA', 'AGP')\", \"('RNA', 'Mito')\", \"('RNA', 'BFHigh')\", \"('AGP', 'Brightfield')\", \"('Mito', 'AGP')\", \"('DNA', 'AGP')\", \"('RNA', 'Mito', 'AGP')\", \"('RNA', 'AGP', 'BFLow')\", \"('Mito', 'Brightfield', 'BFLow')\", \"('DNA', 'ER', 'BFLow')\", \"('DNA', 'Mito', 'Brightfield')\", \"('DNA', 'ER', 'AGP')\", \"('ER', 'AGP', 'BFHigh')\", \"('Mito', 'AGP', 'Brightfield')\", \"('RNA', 'Mito', 'BFHigh')\", \"('DNA', 'ER', 'Mito')\", \"('AGP', 'Brightfield', 'BFHigh')\", \"('DNA', 'Brightfield', 'BFLow')\", \"('RNA', 'AGP', 'BFHigh')\", \"('DNA', 'RNA', 'BFLow')\", \"('ER', 'Mito', 'Brightfield')\", \"('Mito', 'Brightfield', 'BFHigh')\", \"('ER', 'BFLow', 'BFHigh')\", \"('RNA', 'ER', 'BFLow')\", \"('DNA', 'AGP', 'Brightfield')\", \"('DNA', 'RNA', 'AGP')\", \"('DNA', 'ER', 'BFHigh')\", \"('RNA', 'BFLow', 'BFHigh')\", \"('DNA', 'RNA', 'Mito')\", \"('ER', 'Brightfield', 'BFLow')\", \"('RNA', 'ER', 'AGP')\", \"('DNA', 'Mito', 'BFLow')\", \"('RNA', 'ER', 'Mito')\", \"('DNA', 'Brightfield', 'BFHigh')\", \"('ER', 'AGP', 'Brightfield')\", \"('DNA', 'RNA', 'BFHigh')\", \"('RNA', 'Brightfield', 'BFLow')\", \"('Mito', 'AGP', 'BFLow')\", \"('DNA', 'Mito', 'AGP')\", \"('RNA', 'Mito', 'Brightfield')\", \"('DNA', 'RNA', 'ER')\", \"('RNA', 'AGP', 'Brightfield')\", \"('RNA', 'ER', 'BFHigh')\", \"('ER', 'Brightfield', 'BFHigh')\", \"('DNA', 'ER', 'Brightfield')\", \"('ER', 'Mito', 'BFLow')\", \"('AGP', 'BFLow', 'BFHigh')\", \"('DNA', 'Mito', 'BFHigh')\", \"('DNA', 'AGP', 'BFLow')\", \"('Brightfield', 'BFLow', 'BFHigh')\", \"('ER', 'Mito', 'AGP')\", \"('RNA', 'Brightfield', 'BFHigh')\", \"('Mito', 'BFLow', 'BFHigh')\", \"('Mito', 'AGP', 'BFHigh')\", \"('DNA', 'AGP', 'BFHigh')\", \"('RNA', 'Mito', 'BFLow')\", \"('RNA', 'ER', 'Brightfield')\", \"('ER', 'Mito', 'BFHigh')\", \"('DNA', 'RNA', 'Brightfield')\", \"('DNA', 'BFLow', 'BFHigh')\", \"('AGP', 'Brightfield', 'BFLow')\", \"('ER', 'AGP', 'BFLow')\", \"('DNA', 'RNA', 'ER', 'BFHigh')\", \"('ER', 'Mito', 'AGP', 'BFHigh')\", \"('DNA', 'RNA', 'Brightfield', 'BFHigh')\", \"('DNA', 'Mito', 'Brightfield', 'BFHigh')\", \"('DNA', 'RNA', 'ER', 'AGP')\", \"('ER', 'Mito', 'Brightfield', 'BFLow')\", \"('Mito', 'AGP', 'Brightfield', 'BFLow')\", \"('AGP', 'Brightfield', 'BFLow', 'BFHigh')\", \"('RNA', 'Mito', 'Brightfield', 'BFHigh')\", \"('RNA', 'ER', 'Brightfield', 'BFHigh')\", \"('ER', 'Mito', 'BFLow', 'BFHigh')\", \"('DNA', 'AGP', 'Brightfield', 'BFLow')\", \"('DNA', 'RNA', 'ER', 'Brightfield')\", \"('DNA', 'ER', 'Brightfield', 'BFHigh')\", \"('RNA', 'AGP', 'Brightfield', 'BFLow')\", \"('RNA', 'Mito', 'AGP', 'BFHigh')\", \"('DNA', 'RNA', 'ER', 'BFLow')\", \"('DNA', 'AGP', 'BFLow', 'BFHigh')\", \"('ER', 'Mito', 'AGP', 'Brightfield')\", \"('ER', 'Brightfield', 'BFLow', 'BFHigh')\", \"('DNA', 'RNA', 'AGP', 'BFHigh')\", \"('RNA', 'AGP', 'BFLow', 'BFHigh')\", \"('ER', 'AGP', 'Brightfield', 'BFHigh')\", \"('DNA', 'Mito', 'AGP', 'BFHigh')\", \"('ER', 'Mito', 'AGP', 'BFLow')\", \"('DNA', 'Brightfield', 'BFLow', 'BFHigh')\", \"('DNA', 'ER', 'AGP', 'BFHigh')\", \"('DNA', 'Mito', 'Brightfield', 'BFLow')\", \"('Mito', 'AGP', 'BFLow', 'BFHigh')\", \"('DNA', 'RNA', 'Brightfield', 'BFLow')\", \"('RNA', 'Brightfield', 'BFLow', 'BFHigh')\", \"('RNA', 'ER', 'AGP', 'BFHigh')\", \"('RNA', 'Mito', 'Brightfield', 'BFLow')\", \"('RNA', 'ER', 'Brightfield', 'BFLow')\", \"('DNA', 'RNA', 'Mito', 'BFHigh')\", \"('DNA', 'RNA', 'BFLow', 'BFHigh')\", \"('DNA', 'ER', 'Mito', 'BFHigh')\", \"('RNA', 'Mito', 'AGP', 'Brightfield')\", \"('RNA', 'ER', 'Mito', 'BFHigh')\", \"('DNA', 'ER', 'Brightfield', 'BFLow')\", \"('DNA', 'RNA', 'ER', 'Mito')\", \"('RNA', 'ER', 'BFLow', 'BFHigh')\", \"('DNA', 'RNA', 'AGP', 'Brightfield')\", \"('RNA', 'Mito', 'AGP', 'BFLow')\", \"('ER', 'AGP', 'Brightfield', 'BFLow')\", \"('DNA', 'RNA', 'Mito', 'AGP')\", \"('DNA', 'ER', 'Mito', 'AGP')\", \"('DNA', 'Mito', 'AGP', 'Brightfield')\", \"('DNA', 'Mito', 'BFLow', 'BFHigh')\", \"('DNA', 'RNA', 'AGP', 'BFLow')\", \"('DNA', 'ER', 'AGP', 'Brightfield')\", \"('DNA', 'ER', 'BFLow', 'BFHigh')\", \"('DNA', 'Mito', 'AGP', 'BFLow')\", \"('ER', 'Mito', 'Brightfield', 'BFHigh')\", \"('RNA', 'ER', 'AGP', 'Brightfield')\", \"('DNA', 'ER', 'AGP', 'BFLow')\", \"('Mito', 'AGP', 'Brightfield', 'BFHigh')\", \"('RNA', 'ER', 'Mito', 'AGP')\", \"('Mito', 'Brightfield', 'BFLow', 'BFHigh')\", \"('RNA', 'Mito', 'BFLow', 'BFHigh')\", \"('RNA', 'ER', 'AGP', 'BFLow')\", \"('DNA', 'RNA', 'Mito', 'Brightfield')\", \"('ER', 'AGP', 'BFLow', 'BFHigh')\", \"('DNA', 'AGP', 'Brightfield', 'BFHigh')\", \"('DNA', 'RNA', 'Mito', 'BFLow')\", \"('DNA', 'ER', 'Mito', 'Brightfield')\", \"('RNA', 'AGP', 'Brightfield', 'BFHigh')\", \"('RNA', 'ER', 'Mito', 'Brightfield')\", \"('DNA', 'ER', 'Mito', 'BFLow')\", \"('RNA', 'ER', 'Mito', 'BFLow')\", \"('DNA', 'RNA', 'Mito', 'AGP', 'Brightfield')\", \"('DNA', 'ER', 'Mito', 'Brightfield', 'BFHigh')\", \"('RNA', 'ER', 'Mito', 'AGP', 'Brightfield')\", \"('DNA', 'RNA', 'ER', 'Brightfield', 'BFHigh')\", \"('DNA', 'RNA', 'Mito', 'AGP', 'BFLow')\", \"('DNA', 'AGP', 'Brightfield', 'BFLow', 'BFHigh')\", \"('DNA', 'Mito', 'AGP', 'BFLow', 'BFHigh')\", \"('RNA', 'ER', 'Mito', 'AGP', 'BFLow')\", \"('RNA', 'Mito', 'AGP', 'Brightfield', 'BFLow')\", \"('DNA', 'RNA', 'AGP', 'Brightfield', 'BFHigh')\", \"('DNA', 'RNA', 'ER', 'AGP', 'BFHigh')\", \"('ER', 'Mito', 'AGP', 'Brightfield', 'BFHigh')\", \"('DNA', 'RNA', 'Mito', 'BFLow', 'BFHigh')\", \"('DNA', 'ER', 'AGP', 'BFLow', 'BFHigh')\", \"('RNA', 'ER', 'Mito', 'BFLow', 'BFHigh')\", \"('RNA', 'ER', 'Brightfield', 'BFLow', 'BFHigh')\", \"('DNA', 'ER', 'Mito', 'AGP', 'BFHigh')\", \"('DNA', 'Mito', 'Brightfield', 'BFLow', 'BFHigh')\", \"('DNA', 'ER', 'Mito', 'Brightfield', 'BFLow')\", \"('DNA', 'RNA', 'ER', 'Mito', 'BFHigh')\", \"('RNA', 'Mito', 'AGP', 'BFLow', 'BFHigh')\", \"('RNA', 'ER', 'AGP', 'Brightfield', 'BFHigh')\", \"('DNA', 'RNA', 'ER', 'Brightfield', 'BFLow')\", \"('ER', 'AGP', 'Brightfield', 'BFLow', 'BFHigh')\", \"('DNA', 'Mito', 'AGP', 'Brightfield', 'BFHigh')\", \"('DNA', 'RNA', 'ER', 'Mito', 'AGP')\", \"('ER', 'Mito', 'AGP', 'Brightfield', 'BFLow')\", \"('DNA', 'RNA', 'ER', 'AGP', 'Brightfield')\", \"('DNA', 'RNA', 'AGP', 'Brightfield', 'BFLow')\", \"('DNA', 'RNA', 'ER', 'AGP', 'BFLow')\", \"('DNA', 'ER', 'Mito', 'AGP', 'Brightfield')\", \"('DNA', 'RNA', 'Mito', 'Brightfield', 'BFHigh')\", \"('DNA', 'ER', 'AGP', 'Brightfield', 'BFHigh')\", \"('RNA', 'ER', 'Mito', 'Brightfield', 'BFHigh')\", \"('DNA', 'ER', 'Mito', 'BFLow', 'BFHigh')\", \"('Mito', 'AGP', 'Brightfield', 'BFLow', 'BFHigh')\", \"('DNA', 'ER', 'Mito', 'AGP', 'BFLow')\", \"('DNA', 'RNA', 'ER', 'Mito', 'Brightfield')\", \"('DNA', 'RNA', 'ER', 'BFLow', 'BFHigh')\", \"('RNA', 'ER', 'AGP', 'Brightfield', 'BFLow')\", \"('DNA', 'RNA', 'Mito', 'AGP', 'BFHigh')\", \"('DNA', 'RNA', 'ER', 'Mito', 'BFLow')\", \"('RNA', 'AGP', 'Brightfield', 'BFLow', 'BFHigh')\", \"('DNA', 'ER', 'Brightfield', 'BFLow', 'BFHigh')\", \"('RNA', 'Mito', 'AGP', 'Brightfield', 'BFHigh')\", \"('RNA', 'Mito', 'Brightfield', 'BFLow', 'BFHigh')\", \"('DNA', 'RNA', 'AGP', 'BFLow', 'BFHigh')\", \"('RNA', 'ER', 'Mito', 'AGP', 'BFHigh')\", \"('ER', 'Mito', 'AGP', 'BFLow', 'BFHigh')\", \"('DNA', 'Mito', 'AGP', 'Brightfield', 'BFLow')\", \"('RNA', 'ER', 'Mito', 'Brightfield', 'BFLow')\", \"('RNA', 'ER', 'AGP', 'BFLow', 'BFHigh')\", \"('DNA', 'RNA', 'Brightfield', 'BFLow', 'BFHigh')\", \"('ER', 'Mito', 'Brightfield', 'BFLow', 'BFHigh')\", \"('DNA', 'RNA', 'Mito', 'Brightfield', 'BFLow')\", \"('DNA', 'ER', 'AGP', 'Brightfield', 'BFLow')\", \"('DNA', 'RNA', 'ER', 'AGP', 'Brightfield', 'BFLow')\", \"('DNA', 'RNA', 'Mito', 'Brightfield', 'BFLow', 'BFHigh')\", \"('DNA', 'RNA', 'Mito', 'AGP', 'Brightfield', 'BFHigh')\", \"('DNA', 'ER', 'Mito', 'AGP', 'Brightfield', 'BFHigh')\", \"('DNA', 'RNA', 'ER', 'AGP', 'BFLow', 'BFHigh')\", \"('DNA', 'ER', 'AGP', 'Brightfield', 'BFLow', 'BFHigh')\", \"('DNA', 'RNA', 'ER', 'Mito', 'AGP', 'BFHigh')\", \"('RNA', 'Mito', 'AGP', 'Brightfield', 'BFLow', 'BFHigh')\", \"('RNA', 'ER', 'Mito', 'AGP', 'BFLow', 'BFHigh')\", \"('DNA', 'RNA', 'ER', 'Mito', 'Brightfield', 'BFLow')\", \"('DNA', 'RNA', 'Mito', 'AGP', 'Brightfield', 'BFLow')\", \"('DNA', 'ER', 'Mito', 'AGP', 'Brightfield', 'BFLow')\", \"('DNA', 'RNA', 'ER', 'Mito', 'AGP', 'Brightfield')\", \"('DNA', 'RNA', 'AGP', 'Brightfield', 'BFLow', 'BFHigh')\", \"('DNA', 'RNA', 'ER', 'Mito', 'AGP', 'BFLow')\", \"('DNA', 'RNA', 'ER', 'Mito', 'BFLow', 'BFHigh')\", \"('DNA', 'ER', 'Mito', 'AGP', 'BFLow', 'BFHigh')\", \"('RNA', 'ER', 'Mito', 'AGP', 'Brightfield', 'BFHigh')\", \"('RNA', 'ER', 'Mito', 'Brightfield', 'BFLow', 'BFHigh')\", \"('DNA', 'RNA', 'ER', 'AGP', 'Brightfield', 'BFHigh')\", \"('DNA', 'RNA', 'ER', 'Brightfield', 'BFLow', 'BFHigh')\", \"('DNA', 'RNA', 'Mito', 'AGP', 'BFLow', 'BFHigh')\", \"('ER', 'Mito', 'AGP', 'Brightfield', 'BFLow', 'BFHigh')\", \"('RNA', 'ER', 'AGP', 'Brightfield', 'BFLow', 'BFHigh')\", \"('DNA', 'Mito', 'AGP', 'Brightfield', 'BFLow', 'BFHigh')\", \"('DNA', 'ER', 'Mito', 'Brightfield', 'BFLow', 'BFHigh')\", \"('DNA', 'RNA', 'ER', 'Mito', 'Brightfield', 'BFHigh')\", \"('RNA', 'ER', 'Mito', 'AGP', 'Brightfield', 'BFLow')\", \"('RNA', 'ER', 'Mito', 'AGP', 'Brightfield', 'BFLow', 'BFHigh')\", \"('DNA', 'RNA', 'ER', 'Mito', 'Brightfield', 'BFLow', 'BFHigh')\", \"('DNA', 'RNA', 'ER', 'Mito', 'AGP', 'BFLow', 'BFHigh')\", \"('DNA', 'RNA', 'Mito', 'AGP', 'Brightfield', 'BFLow', 'BFHigh')\", \"('DNA', 'RNA', 'ER', 'Mito', 'AGP', 'Brightfield', 'BFHigh')\", \"('DNA', 'RNA', 'ER', 'Mito', 'AGP', 'Brightfield', 'BFLow')\", \"('DNA', 'ER', 'Mito', 'AGP', 'Brightfield', 'BFLow', 'BFHigh')\", \"('DNA', 'RNA', 'ER', 'AGP', 'Brightfield', 'BFLow', 'BFHigh')\"],skipping\n",
      "count    255.000000\n",
      "mean       0.532996\n",
      "std        0.017167\n",
      "min        0.488889\n",
      "25%        0.520833\n",
      "50%        0.534722\n",
      "75%        0.545833\n",
      "max        0.569444\n",
      "Name: Mean, dtype: float64\n",
      "count    255.000000\n",
      "mean       0.529826\n",
      "std        0.018165\n",
      "min        0.483333\n",
      "25%        0.516667\n",
      "50%        0.533333\n",
      "75%        0.544444\n",
      "max        0.572222\n",
      "Name: Median, dtype: float64\n"
     ]
    }
   ],
   "source": [
    "all_combo_dropouts_in_a_category(['DNA','RNA','ER','Mito','AGP','Brightfield','BFLow','BFHigh'],\n",
    "                                 'checkpoint_csvs/channel_dropout_combinations.csv')"
   ]
  },
  {
   "cell_type": "code",
   "execution_count": 7,
   "id": "fecf4001",
   "metadata": {},
   "outputs": [
    {
     "name": "stdout",
     "output_type": "stream",
     "text": [
      "Already try ['()', \"('Granularity',)\", \"('Neighbors',)\", \"('Texture',)\", \"('RadialDistribution',)\", \"('AreaShape',)\", \"('Intensity',)\", \"('Correlation',)\", \"('Intensity', 'Neighbors')\", \"('AreaShape', 'RadialDistribution')\", \"('Intensity', 'Texture')\", \"('AreaShape', 'Intensity')\", \"('Correlation', 'Granularity')\", \"('AreaShape', 'Neighbors')\", \"('Correlation', 'RadialDistribution')\", \"('AreaShape', 'Texture')\", \"('Correlation', 'Intensity')\", \"('Neighbors', 'RadialDistribution')\", \"('Correlation', 'Neighbors')\", \"('Correlation', 'Texture')\", \"('Neighbors', 'Texture')\", \"('Granularity', 'RadialDistribution')\", \"('AreaShape', 'Correlation')\", \"('Granularity', 'Intensity')\", \"('Granularity', 'Neighbors')\", \"('Granularity', 'Texture')\", \"('Intensity', 'RadialDistribution')\", \"('RadialDistribution', 'Texture')\", \"('AreaShape', 'Granularity')\", \"('Granularity', 'Neighbors', 'Texture')\", \"('AreaShape', 'Granularity', 'Intensity')\", \"('AreaShape', 'Granularity', 'Neighbors')\", \"('Intensity', 'Neighbors', 'RadialDistribution')\", \"('AreaShape', 'Granularity', 'Texture')\", \"('AreaShape', 'Intensity', 'RadialDistribution')\", \"('Granularity', 'Intensity', 'RadialDistribution')\", \"('Correlation', 'Neighbors', 'RadialDistribution')\", \"('AreaShape', 'Neighbors', 'Texture')\", \"('AreaShape', 'RadialDistribution', 'Texture')\", \"('Granularity', 'RadialDistribution', 'Texture')\", \"('Intensity', 'Neighbors', 'Texture')\", \"('Correlation', 'Granularity', 'RadialDistribution')\", \"('Granularity', 'Intensity', 'Neighbors')\", \"('AreaShape', 'Intensity', 'Neighbors')\", \"('Granularity', 'Intensity', 'Texture')\", \"('Correlation', 'Neighbors', 'Texture')\", \"('AreaShape', 'Intensity', 'Texture')\", \"('Correlation', 'Granularity', 'Intensity')\", \"('Correlation', 'Granularity', 'Neighbors')\", \"('Neighbors', 'RadialDistribution', 'Texture')\", \"('AreaShape', 'Correlation', 'Granularity')\", \"('Correlation', 'Granularity', 'Texture')\", \"('AreaShape', 'Correlation', 'RadialDistribution')\", \"('AreaShape', 'Correlation', 'Intensity')\", \"('Correlation', 'Intensity', 'RadialDistribution')\", \"('Intensity', 'RadialDistribution', 'Texture')\", \"('AreaShape', 'Correlation', 'Neighbors')\", \"('Correlation', 'RadialDistribution', 'Texture')\", \"('AreaShape', 'Correlation', 'Texture')\", \"('Granularity', 'Neighbors', 'RadialDistribution')\", \"('Correlation', 'Intensity', 'Neighbors')\", \"('Correlation', 'Intensity', 'Texture')\", \"('AreaShape', 'Granularity', 'RadialDistribution')\", \"('AreaShape', 'Neighbors', 'RadialDistribution')\", \"('Correlation', 'Granularity', 'Intensity', 'RadialDistribution')\", \"('AreaShape', 'Correlation', 'Granularity', 'Intensity')\", \"('AreaShape', 'Granularity', 'RadialDistribution', 'Texture')\", \"('AreaShape', 'Neighbors', 'RadialDistribution', 'Texture')\", \"('AreaShape', 'Intensity', 'Neighbors', 'Texture')\", \"('Correlation', 'Granularity', 'RadialDistribution', 'Texture')\", \"('AreaShape', 'Correlation', 'Granularity', 'Neighbors')\", \"('AreaShape', 'Granularity', 'Intensity', 'Neighbors')\", \"('AreaShape', 'Correlation', 'Granularity', 'Texture')\", \"('AreaShape', 'Granularity', 'Intensity', 'Texture')\", \"('AreaShape', 'Correlation', 'Neighbors', 'Texture')\", \"('Granularity', 'Intensity', 'Neighbors', 'Texture')\", \"('Intensity', 'Neighbors', 'RadialDistribution', 'Texture')\", \"('Correlation', 'Granularity', 'Intensity', 'Neighbors')\", \"('Correlation', 'Granularity', 'Intensity', 'Texture')\", \"('Correlation', 'Intensity', 'Neighbors', 'RadialDistribution')\", \"('Granularity', 'Intensity', 'RadialDistribution', 'Texture')\", \"('Granularity', 'Neighbors', 'RadialDistribution', 'Texture')\", \"('Correlation', 'Neighbors', 'RadialDistribution', 'Texture')\", \"('AreaShape', 'Correlation', 'Intensity', 'RadialDistribution')\", \"('Correlation', 'Intensity', 'Neighbors', 'Texture')\", \"('AreaShape', 'Intensity', 'RadialDistribution', 'Texture')\", \"('AreaShape', 'Correlation', 'RadialDistribution', 'Texture')\", \"('Granularity', 'Intensity', 'Neighbors', 'RadialDistribution')\", \"('AreaShape', 'Correlation', 'Intensity', 'Neighbors')\", \"('AreaShape', 'Granularity', 'Neighbors', 'RadialDistribution')\", \"('Correlation', 'Granularity', 'Neighbors', 'RadialDistribution')\", \"('AreaShape', 'Correlation', 'Intensity', 'Texture')\", \"('AreaShape', 'Granularity', 'Neighbors', 'Texture')\", \"('Correlation', 'Intensity', 'RadialDistribution', 'Texture')\", \"('Correlation', 'Granularity', 'Neighbors', 'Texture')\", \"('AreaShape', 'Intensity', 'Neighbors', 'RadialDistribution')\", \"('AreaShape', 'Correlation', 'Granularity', 'RadialDistribution')\", \"('AreaShape', 'Granularity', 'Intensity', 'RadialDistribution')\", \"('AreaShape', 'Correlation', 'Neighbors', 'RadialDistribution')\", \"('Correlation', 'Granularity', 'Intensity', 'Neighbors', 'Texture')\", \"('AreaShape', 'Correlation', 'Granularity', 'Intensity', 'Neighbors')\", \"('AreaShape', 'Correlation', 'Intensity', 'RadialDistribution', 'Texture')\", \"('AreaShape', 'Correlation', 'Granularity', 'Intensity', 'Texture')\", \"('AreaShape', 'Granularity', 'Intensity', 'Neighbors', 'RadialDistribution')\", \"('AreaShape', 'Correlation', 'Granularity', 'Neighbors', 'RadialDistribution')\", \"('Correlation', 'Granularity', 'Intensity', 'RadialDistribution', 'Texture')\", \"('AreaShape', 'Granularity', 'Intensity', 'Neighbors', 'Texture')\", \"('AreaShape', 'Intensity', 'Neighbors', 'RadialDistribution', 'Texture')\", \"('Correlation', 'Granularity', 'Neighbors', 'RadialDistribution', 'Texture')\", \"('AreaShape', 'Correlation', 'Granularity', 'Neighbors', 'Texture')\", \"('Granularity', 'Intensity', 'Neighbors', 'RadialDistribution', 'Texture')\", \"('Correlation', 'Intensity', 'Neighbors', 'RadialDistribution', 'Texture')\", \"('AreaShape', 'Correlation', 'Intensity', 'Neighbors', 'RadialDistribution')\", \"('AreaShape', 'Granularity', 'Intensity', 'RadialDistribution', 'Texture')\", \"('AreaShape', 'Granularity', 'Neighbors', 'RadialDistribution', 'Texture')\", \"('Correlation', 'Granularity', 'Intensity', 'Neighbors', 'RadialDistribution')\", \"('AreaShape', 'Correlation', 'Intensity', 'Neighbors', 'Texture')\", \"('AreaShape', 'Correlation', 'Granularity', 'Intensity', 'RadialDistribution')\", \"('AreaShape', 'Correlation', 'Neighbors', 'RadialDistribution', 'Texture')\", \"('AreaShape', 'Correlation', 'Granularity', 'RadialDistribution', 'Texture')\", \"('AreaShape', 'Correlation', 'Granularity', 'Intensity', 'RadialDistribution', 'Texture')\", \"('AreaShape', 'Granularity', 'Intensity', 'Neighbors', 'RadialDistribution', 'Texture')\", \"('AreaShape', 'Correlation', 'Intensity', 'Neighbors', 'RadialDistribution', 'Texture')\", \"('AreaShape', 'Correlation', 'Granularity', 'Neighbors', 'RadialDistribution', 'Texture')\", \"('AreaShape', 'Correlation', 'Granularity', 'Intensity', 'Neighbors', 'Texture')\", \"('AreaShape', 'Correlation', 'Granularity', 'Intensity', 'Neighbors', 'RadialDistribution')\", \"('Correlation', 'Granularity', 'Intensity', 'Neighbors', 'RadialDistribution', 'Texture')\"],skipping\n",
      "count    127.000000\n",
      "mean       0.521271\n",
      "std        0.044991\n",
      "min        0.173611\n",
      "25%        0.498611\n",
      "50%        0.534722\n",
      "75%        0.548611\n",
      "max        0.568056\n",
      "Name: Mean, dtype: float64\n",
      "count    127.000000\n",
      "mean       0.518416\n",
      "std        0.046088\n",
      "min        0.155556\n",
      "25%        0.494444\n",
      "50%        0.533333\n",
      "75%        0.544444\n",
      "max        0.583333\n",
      "Name: Median, dtype: float64\n"
     ]
    }
   ],
   "source": [
    "all_combo_dropouts_in_a_category(['AreaShape','Correlation','Granularity','Intensity','Neighbors','RadialDistribution','Texture'],\n",
    "                                 'checkpoint_csvs/feature_dropout_combinations.csv')"
   ]
  },
  {
   "cell_type": "code",
   "execution_count": null,
   "id": "4b468782",
   "metadata": {},
   "outputs": [
    {
     "name": "stdout",
     "output_type": "stream",
     "text": [
      "DNA\n",
      "() 0.5208333333333333\n",
      "('Neighbors',) 0.5166666666666666\n",
      "('Intensity',) 0.5180555555555555\n"
     ]
    }
   ],
   "source": [
    "for eachchannel in ['DNA','RNA','ER','Mito','AGP','Brightfield','BFLow','BFHigh']:\n",
    "    print(eachchannel)\n",
    "    all_combo_dropouts_in_a_category(['AreaShape','Correlation','Granularity','Intensity','Neighbors','RadialDistribution','Texture'],\n",
    "                                 f'checkpoint_csvs/{eachchannel}_only_feature_dropout_combinations.csv',subsample=[eachchannel])\n",
    "    "
   ]
  }
 ],
 "metadata": {
  "kernelspec": {
   "display_name": "Python 3 (ipykernel)",
   "language": "python",
   "name": "python3"
  },
  "language_info": {
   "codemirror_mode": {
    "name": "ipython",
    "version": 3
   },
   "file_extension": ".py",
   "mimetype": "text/x-python",
   "name": "python",
   "nbconvert_exporter": "python",
   "pygments_lexer": "ipython3",
   "version": "3.8.10"
  }
 },
 "nbformat": 4,
 "nbformat_minor": 5
}
