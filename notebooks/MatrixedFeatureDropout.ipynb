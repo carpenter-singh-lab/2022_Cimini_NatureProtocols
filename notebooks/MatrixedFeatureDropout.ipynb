{
 "cells": [
  {
   "cell_type": "code",
   "execution_count": null,
   "id": "016f0529",
   "metadata": {},
   "outputs": [],
   "source": [
    "!python3 --version"
   ]
  },
  {
   "cell_type": "code",
   "execution_count": null,
   "id": "de79fe76",
   "metadata": {},
   "outputs": [],
   "source": [
    "import os\n",
    "import itertools\n",
    "\n",
    "import pandas\n",
    "import numpy\n",
    "import pycytominer\n",
    "\n",
    "from utils import calculate_percent_replicating_MOA"
   ]
  },
  {
   "cell_type": "code",
   "execution_count": null,
   "id": "104da192",
   "metadata": {},
   "outputs": [],
   "source": [
    "def do_feature_select(plate_df):\n",
    "    feature_select_features = pycytominer.cyto_utils.infer_cp_features(\n",
    "        plate_df\n",
    "    )\n",
    "\n",
    "    return pycytominer.feature_select(\n",
    "        profiles=plate_df,\n",
    "        features=feature_select_features,\n",
    "        operation=['variance_threshold','correlation_threshold',\n",
    "        'drop_na_columns','blocklist']\n",
    "    )"
   ]
  },
  {
   "cell_type": "code",
   "execution_count": null,
   "id": "e20c1ea6",
   "metadata": {},
   "outputs": [],
   "source": [
    "def all_combo_dropouts_in_a_category(category_list,outfile,subsample=None):\n",
    "    to_try = [y for x in range(len(category_list)) for y in list(set(itertools.combinations(category_list,x)))]\n",
    "\n",
    "    if os.path.exists(outfile):\n",
    "        dropout_df = pandas.read_csv(outfile)\n",
    "        tried=list(dropout_df['Dropout'])\n",
    "        print(f\"Already try {tried},skipping\")\n",
    "        to_try = [x for x in to_try if x not in tried]\n",
    "    else:\n",
    "        dropout_df = pandas.DataFrame()\n",
    "    for eachdropout in to_try:\n",
    "        normalized_master = pandas.read_csv('../profiles-pilots/profiles/Stain5_CondC_Standard/BR00120274/BR00120274_normalized_negcon.csv.gz')\n",
    "        col_list = normalized_master.columns\n",
    "        if subsample:\n",
    "             for each_item in subsample:\n",
    "                col_list = [x for x in col_list if each_item in x]\n",
    "        for each_item in eachdropout:\n",
    "            col_list = [x for x in col_list if each_item not in x]\n",
    "        dropout_dict = {}\n",
    "        temp_dropout_dict = {}\n",
    "        for eachplate in range(70,78):\n",
    "            try:\n",
    "                normalized = pandas.read_csv(\n",
    "                    f'../profiles-pilots/profiles/Stain5_CondC_Standard/BR001202{eachplate}/BR001202{eachplate}_normalized_negcon.csv.gz',\n",
    "                    usecols=col_list)\n",
    "                feature_select = do_feature_select(normalized)\n",
    "                temp_dropout_dict[f'{eachplate}_featnum']=len(feature_select.columns)\n",
    "                dropout_dict[f'BR001202{eachplate}']= calculate_percent_replicating_MOA('','',data_df=feature_select)\n",
    "            except:\n",
    "                dropout_dict[f'BR001202{eachplate}']=0\n",
    "        results_array = numpy.array(list(dropout_dict.values()))\n",
    "        for k,v in temp_dropout_dict.items():\n",
    "            dropout_dict[k]=v\n",
    "        dropout_dict['Mean']=results_array.mean()\n",
    "        dropout_dict['Median']=numpy.median(results_array)\n",
    "        dropout_dict['Standard deviation']=numpy.std(results_array)\n",
    "        dropout_dict['Dropout']=eachdropout\n",
    "        dropout_dict['Remaining'] = [x for x in category_list if x not in eachdropout]\n",
    "        dropout_dict['n_columns']=len(col_list)\n",
    "        dropout_df = dropout_df.append(dropout_dict,ignore_index=True)\n",
    "        print(eachdropout,dropout_dict['Mean'])\n",
    "        dropout_df.to_csv(outfile,index=False)\n",
    "    print(dropout_df['Mean'].describe())\n",
    "    print(dropout_df['Median'].describe())"
   ]
  },
  {
   "cell_type": "code",
   "execution_count": null,
   "id": "f40feaec",
   "metadata": {},
   "outputs": [],
   "source": [
    "all_combo_dropouts_in_a_category(['Nuclei','Cells','Cytoplasm'],\n",
    "                                 'checkpoint_csvs/compartment_dropout_combinations.csv')"
   ]
  },
  {
   "cell_type": "code",
   "execution_count": null,
   "id": "dfb10a2e",
   "metadata": {},
   "outputs": [],
   "source": [
    "all_combo_dropouts_in_a_category(['DNA','RNA','ER','Mito','AGP','Brightfield','BFLow','BFHigh'],\n",
    "                                 'checkpoint_csvs/channel_dropout_combinations.csv')"
   ]
  },
  {
   "cell_type": "code",
   "execution_count": null,
   "id": "fecf4001",
   "metadata": {},
   "outputs": [],
   "source": [
    "all_combo_dropouts_in_a_category(['AreaShape','Correlation','Granularity','Intensity','Neighbors','RadialDistribution','Texture'],\n",
    "                                 'checkpoint_csvs/feature_dropout_combinations.csv')"
   ]
  },
  {
   "cell_type": "code",
   "execution_count": null,
   "id": "4b468782",
   "metadata": {},
   "outputs": [],
   "source": [
    "for eachchannel in ['DNA','RNA','ER','Mito','AGP','Brightfield','BFLow','BFHigh']:\n",
    "    all_combo_dropouts_in_a_category(['AreaShape','Correlation','Granularity','Intensity','Neighbors','RadialDistribution','Texture'],\n",
    "                                 f'checkpoint_csvs/{eachchannel}_only_feature_dropout_combinations.csv',subsample=[eachchannel])\n",
    "    "
   ]
  }
 ],
 "metadata": {
  "kernelspec": {
   "display_name": "Python 3 (ipykernel)",
   "language": "python",
   "name": "python3"
  },
  "language_info": {
   "codemirror_mode": {
    "name": "ipython",
    "version": 3
   },
   "file_extension": ".py",
   "mimetype": "text/x-python",
   "name": "python",
   "nbconvert_exporter": "python",
   "pygments_lexer": "ipython3",
   "version": "3.8.10"
  }
 },
 "nbformat": 4,
 "nbformat_minor": 5
}
